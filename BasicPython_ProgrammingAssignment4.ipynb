{
 "cells": [
  {
   "cell_type": "code",
   "execution_count": null,
   "metadata": {},
   "outputs": [],
   "source": [
    "## Write a Python Program to Find the Factorial of a Number?\n",
    "n=int(input())\n",
    "my_list=[]\n",
    "for i in range(1,n+1):\n",
    "    my_list.append(i)\n",
    "from functools import reduce\n",
    "reduce(lambda a,b:a*b,my_list)\n"
   ]
  },
  {
   "cell_type": "code",
   "execution_count": null,
   "metadata": {},
   "outputs": [],
   "source": [
    "##Write a Python Program to Display the multiplication Table?\n",
    "n=int(input())\n",
    "for i in range(1,21):##displays multiplication table of the number till 20 multiples\n",
    "    print(f\"{n} X {i} ={n*i}\")"
   ]
  },
  {
   "cell_type": "code",
   "execution_count": null,
   "metadata": {},
   "outputs": [],
   "source": [
    "my_list=[0,1,1] ## starts the series with 0,1,1\n",
    "for i in range(20): \n",
    "    l=int(my_list[-1])+int(my_list[-2])\n",
    "    my_list.append(l)\n",
    "print(my_list)"
   ]
  },
  {
   "cell_type": "code",
   "execution_count": null,
   "metadata": {},
   "outputs": [],
   "source": [
    "## Write a Python Program to Check Armstrong Number?\n",
    "n=int(input())\n",
    "x=int(len(str(n)))\n",
    "sum=0\n",
    "my_list=[]\n",
    "for i in str(n):\n",
    "    my_list.append(i)\n",
    "for i in range(0,x):\n",
    "    sum=sum+ int(my_list[i])**x\n",
    "if sum==n:\n",
    "    print(\"Armstrong Number\")\n",
    "else:\n",
    "    print(\"Not an Armstrong Number\")"
   ]
  },
  {
   "cell_type": "code",
   "execution_count": null,
   "metadata": {},
   "outputs": [],
   "source": [
    "## Write a Python Program to Find Armstrong Number in an Interval?\n",
    "def is_armstrong(n):\n",
    "    \"This function returns True if the number is an armstrong number, else returns False\"\n",
    "    x=int(len(str(n)))\n",
    "    sum=0\n",
    "    my_list=[]\n",
    "    for i in str(n):\n",
    "        my_list.append(i)\n",
    "    for i in range(0,x):\n",
    "        sum=sum+ int(my_list[i])**x\n",
    "    if sum==n:\n",
    "        return True\n",
    "    else:\n",
    "        return False\n",
    "my_list2=[]\n",
    "lower_interval=int(input())##For lower interval of the interval\n",
    "upper_interval=int(input())##For upper interval of the interval\n",
    "for number in range(lower_interval,upper_interval):\n",
    "    if is_armstrong(number)==True:\n",
    "        my_list2.append(number)\n",
    "print(my_list2)"
   ]
  },
  {
   "cell_type": "code",
   "execution_count": null,
   "metadata": {},
   "outputs": [],
   "source": [
    "##Write a Python Program to Find the Sum of Natural Numbers?\n",
    "n=int(input())\n",
    "sum=(n*(n+1))//2## Calculates the sum of natural number starting from 1 to n(which is given as input)\n",
    "print(sum)\n",
    "\n"
   ]
  }
 ],
 "metadata": {
  "kernelspec": {
   "display_name": "base",
   "language": "python",
   "name": "python3"
  },
  "language_info": {
   "codemirror_mode": {
    "name": "ipython",
    "version": 3
   },
   "file_extension": ".py",
   "mimetype": "text/x-python",
   "name": "python",
   "nbconvert_exporter": "python",
   "pygments_lexer": "ipython3",
   "version": "3.9.13"
  },
  "orig_nbformat": 4,
  "vscode": {
   "interpreter": {
    "hash": "b302cdd1e032ee910f5c889c3360c28564c92ad4f326fc3102e39fbe47faee66"
   }
  }
 },
 "nbformat": 4,
 "nbformat_minor": 2
}
